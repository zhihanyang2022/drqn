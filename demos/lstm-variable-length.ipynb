{
 "cells": [
  {
   "cell_type": "code",
   "execution_count": 15,
   "metadata": {
    "ExecuteTime": {
     "end_time": "2021-03-31T03:42:00.450422Z",
     "start_time": "2021-03-31T03:42:00.443780Z"
    }
   },
   "outputs": [],
   "source": [
    "import numpy as np\n",
    "import torch\n",
    "import torch.nn as nn\n",
    "import torch.nn.functional as F"
   ]
  },
  {
   "cell_type": "code",
   "execution_count": 59,
   "metadata": {
    "ExecuteTime": {
     "end_time": "2021-03-31T03:42:53.297911Z",
     "start_time": "2021-03-31T03:42:53.288999Z"
    }
   },
   "outputs": [],
   "source": [
    "class LSTM(nn.Module):\n",
    "    \n",
    "    def __init__(self, num_inputs, num_outputs):\n",
    "        \n",
    "        super(LSTM, self).__init__()\n",
    "        \n",
    "        self.num_inputs = num_inputs\n",
    "        self.num_outputs = num_outputs\n",
    "\n",
    "        self.lstm = nn.LSTM(input_size=num_inputs, hidden_size=16, batch_first=True)\n",
    "        self.fc1 = nn.Linear(16, 128)\n",
    "        self.fc2 = nn.Linear(128, num_outputs)\n",
    "\n",
    "    def forward(self, x, hidden=None):\n",
    "        \n",
    "        # x [batch_size, sequence_length, num_inputs]\n",
    "        out, hidden = self.lstm(x, hidden)\n",
    "        out = torch.relu(out)\n",
    "        out = self.fc1(out)\n",
    "        out = torch.relu(out)\n",
    "        out = self.fc2(out)\n",
    "        out = torch.sigmoid(out)\n",
    "        \n",
    "        return out"
   ]
  },
  {
   "cell_type": "code",
   "execution_count": 60,
   "metadata": {
    "ExecuteTime": {
     "end_time": "2021-03-31T03:42:53.499308Z",
     "start_time": "2021-03-31T03:42:53.495484Z"
    }
   },
   "outputs": [],
   "source": [
    "onehot_source = np.eye(5)"
   ]
  },
  {
   "cell_type": "code",
   "execution_count": 60,
   "metadata": {
    "ExecuteTime": {
     "end_time": "2021-03-31T03:39:19.933037Z",
     "start_time": "2021-03-31T03:39:19.927211Z"
    }
   },
   "outputs": [],
   "source": []
  },
  {
   "cell_type": "code",
   "execution_count": 30,
   "metadata": {
    "ExecuteTime": {
     "end_time": "2021-03-31T03:42:53.866653Z",
     "start_time": "2021-03-31T03:42:53.859225Z"
    }
   },
   "outputs": [],
   "source": [
    "lstm = LSTM(num_inputs=2, num_outputs=1)\n"
   ]
  },
  {
   "cell_type": "code",
   "execution_count": 61,
   "metadata": {
    "ExecuteTime": {
     "end_time": "2021-03-31T04:21:35.628110Z",
     "start_time": "2021-03-31T04:21:35.620374Z"
    }
   },
   "outputs": [],
   "source": [
    "a = torch.tensor([[1, 2], [3, 4], [5, 6], [7, 8]])\n",
    "b = torch.tensor([[7, 8]])\n",
    "c = torch.tensor([[13, 14], [15, 16]])"
   ]
  },
  {
   "cell_type": "code",
   "execution_count": 62,
   "metadata": {
    "ExecuteTime": {
     "end_time": "2021-03-31T04:23:19.521230Z",
     "start_time": "2021-03-31T04:23:19.421879Z"
    }
   },
   "outputs": [
    {
     "data": {
      "text/plain": "tensor([[[ 1,  2],\n         [ 3,  4],\n         [ 5,  6],\n         [ 7,  8]],\n\n        [[ 7,  8],\n         [ 0,  0],\n         [ 0,  0],\n         [ 0,  0]],\n\n        [[13, 14],\n         [15, 16],\n         [ 0,  0],\n         [ 0,  0]]])"
     },
     "execution_count": 62,
     "metadata": {},
     "output_type": "execute_result"
    }
   ],
   "source": [
    "data = nn.utils.rnn.pad_sequence([a, b, c], batch_first=True)\n",
    "data"
   ]
  },
  {
   "cell_type": "code",
   "execution_count": 63,
   "metadata": {
    "ExecuteTime": {
     "end_time": "2021-03-31T04:23:19.637455Z",
     "start_time": "2021-03-31T04:23:19.627039Z"
    }
   },
   "outputs": [
    {
     "data": {
      "text/plain": "PackedSequence(data=tensor([[ 1,  2],\n        [13, 14],\n        [ 7,  8],\n        [ 3,  4],\n        [15, 16],\n        [ 5,  6],\n        [ 7,  8]]), batch_sizes=tensor([3, 2, 1, 1]), sorted_indices=tensor([0, 2, 1]), unsorted_indices=tensor([0, 2, 1]))"
     },
     "execution_count": 63,
     "metadata": {},
     "output_type": "execute_result"
    }
   ],
   "source": [
    "data = nn.utils.rnn.pack_padded_sequence(data, lengths=[4, 1, 2], batch_first=True, enforce_sorted=False)\n",
    "data"
   ]
  },
  {
   "cell_type": "code",
   "execution_count": 64,
   "metadata": {
    "ExecuteTime": {
     "end_time": "2021-03-31T04:24:28.764961Z",
     "start_time": "2021-03-31T04:24:28.759247Z"
    }
   },
   "outputs": [],
   "source": [
    "lstm_layer = nn.LSTM(input_size=2, hidden_size=3, batch_first=True)\n",
    "linear_layer = nn.Linear(3, 4)"
   ]
  },
  {
   "cell_type": "code",
   "execution_count": 65,
   "metadata": {
    "ExecuteTime": {
     "end_time": "2021-03-31T04:24:28.952625Z",
     "start_time": "2021-03-31T04:24:28.947434Z"
    }
   },
   "outputs": [],
   "source": [
    "o, (h, c) = lstm_layer(data.float())"
   ]
  },
  {
   "cell_type": "code",
   "execution_count": 66,
   "metadata": {
    "ExecuteTime": {
     "end_time": "2021-03-31T04:24:29.127955Z",
     "start_time": "2021-03-31T04:24:29.118682Z"
    }
   },
   "outputs": [
    {
     "data": {
      "text/plain": "(tensor([[[ 7.3189e-02,  1.0773e-01, -6.9654e-02],\n          [ 4.2135e-02,  7.9337e-02, -2.8355e-02],\n          [ 1.4783e-02,  3.5969e-02, -9.6717e-03],\n          [ 4.0341e-03,  1.2493e-02, -3.2697e-03]],\n \n         [[ 2.7512e-04,  5.1486e-03, -2.1126e-05],\n          [ 0.0000e+00,  0.0000e+00,  0.0000e+00],\n          [ 0.0000e+00,  0.0000e+00,  0.0000e+00],\n          [ 0.0000e+00,  0.0000e+00,  0.0000e+00]],\n \n         [[ 3.9987e-07,  1.3631e-04, -3.0929e-09],\n          [ 1.0617e-07,  4.9671e-05, -1.2481e-09],\n          [ 0.0000e+00,  0.0000e+00,  0.0000e+00],\n          [ 0.0000e+00,  0.0000e+00,  0.0000e+00]]],\n        grad_fn=<IndexSelectBackward>),\n torch.Size([3, 4, 3]))"
     },
     "execution_count": 66,
     "metadata": {},
     "output_type": "execute_result"
    }
   ],
   "source": [
    "o, _ = torch.nn.utils.rnn.pad_packed_sequence(sequence=o, batch_first=True)\n",
    "o, o.shape"
   ]
  },
  {
   "cell_type": "code",
   "execution_count": 25,
   "metadata": {
    "ExecuteTime": {
     "end_time": "2021-03-31T04:24:30.328520Z",
     "start_time": "2021-03-31T04:24:30.320640Z"
    }
   },
   "outputs": [
    {
     "data": {
      "text/plain": "torch.Size([3, 4, 4])"
     },
     "execution_count": 25,
     "metadata": {},
     "output_type": "execute_result"
    }
   ],
   "source": [
    "linear_layer(o).shape"
   ]
  },
  {
   "cell_type": "code",
   "execution_count": 26,
   "metadata": {
    "ExecuteTime": {
     "end_time": "2021-03-31T04:22:22.558452Z",
     "start_time": "2021-03-31T04:22:22.552413Z"
    }
   },
   "outputs": [],
   "source": [
    "a = torch.tensor([[1, 2], [3, 4], [5, 6], [7, 8]])\n",
    "b = torch.tensor([[7, 8]])\n",
    "c = torch.tensor([[13, 14], [15, 16]])\n",
    "data = nn.utils.rnn.pad_sequence([a, b, c], batch_first=True)"
   ]
  },
  {
   "cell_type": "code",
   "execution_count": 27,
   "metadata": {
    "ExecuteTime": {
     "end_time": "2021-03-31T04:22:22.805256Z",
     "start_time": "2021-03-31T04:22:22.776023Z"
    }
   },
   "outputs": [],
   "source": [
    "o, (h, c) = lstm_layer(data.float())"
   ]
  },
  {
   "cell_type": "code",
   "execution_count": 28,
   "metadata": {
    "ExecuteTime": {
     "end_time": "2021-03-31T04:22:23.053091Z",
     "start_time": "2021-03-31T04:22:23.038456Z"
    }
   },
   "outputs": [
    {
     "data": {
      "text/plain": "tensor([[[-1.3476e-02,  2.5510e-01,  3.8923e-02],\n         [-6.8503e-03,  5.0041e-01,  2.9872e-02],\n         [-2.3512e-03,  6.8747e-01, -1.4301e-02],\n         [-7.0616e-04,  8.0632e-01, -7.6779e-02]],\n\n        [[-1.4196e-06,  4.0640e-01, -1.7599e-02],\n         [ 4.5898e-02,  2.9161e-01, -3.0840e-02],\n         [ 7.3712e-02,  3.1488e-01, -3.2047e-02],\n         [ 8.7233e-02,  3.3480e-01, -3.5870e-02]],\n\n        [[ 1.5862e-09,  2.9619e-01, -1.1440e-02],\n         [ 5.7016e-10,  4.8869e-01, -2.2434e-02],\n         [ 4.2685e-02,  3.0739e-01, -3.6683e-02],\n         [ 7.1743e-02,  3.2167e-01, -3.4562e-02]]],\n       grad_fn=<TransposeBackward0>)"
     },
     "execution_count": 28,
     "metadata": {},
     "output_type": "execute_result"
    }
   ],
   "source": [
    "o"
   ]
  },
  {
   "cell_type": "code",
   "execution_count": 28,
   "metadata": {},
   "outputs": [],
   "source": []
  }
 ],
 "metadata": {
  "kernelspec": {
   "name": "pycharm-26281815",
   "language": "python",
   "display_name": "PyCharm (Reinforcement-Learning-Pytorch-Cartpole)"
  },
  "language_info": {
   "codemirror_mode": {
    "name": "ipython",
    "version": 3
   },
   "file_extension": ".py",
   "mimetype": "text/x-python",
   "name": "python",
   "nbconvert_exporter": "python",
   "pygments_lexer": "ipython3",
   "version": "3.6.9"
  },
  "toc": {
   "base_numbering": 1,
   "nav_menu": {},
   "number_sections": true,
   "sideBar": true,
   "skip_h1_title": false,
   "title_cell": "Table of Contents",
   "title_sidebar": "Contents",
   "toc_cell": false,
   "toc_position": {},
   "toc_section_display": true,
   "toc_window_display": false
  }
 },
 "nbformat": 4,
 "nbformat_minor": 2
}