{
 "cells": [
  {
   "cell_type": "code",
   "execution_count": 4,
   "metadata": {
    "ExecuteTime": {
     "end_time": "2021-03-31T07:10:42.739076Z",
     "start_time": "2021-03-31T07:10:42.734218Z"
    }
   },
   "outputs": [],
   "source": [
    "import gym\n",
    "import os\n",
    "from gym.envs.registration import register\n",
    "import yaml"
   ]
  },
  {
   "cell_type": "code",
   "execution_count": 6,
   "metadata": {
    "ExecuteTime": {
     "end_time": "2021-03-31T07:10:50.041912Z",
     "start_time": "2021-03-31T07:10:50.025387Z"
    }
   },
   "outputs": [
    {
     "ename": "AttributeError",
     "evalue": "module 'yaml' has no attribute 'FullLoader'",
     "output_type": "error",
     "traceback": [
      "\u001b[0;31m---------------------------------------------------------------------------\u001b[0m",
      "\u001b[0;31mAttributeError\u001b[0m                            Traceback (most recent call last)",
      "\u001b[0;32m<ipython-input-6-bbdbc9447a95>\u001b[0m in \u001b[0;36m<module>\u001b[0;34m\u001b[0m\n\u001b[1;32m      1\u001b[0m \u001b[0;32mwith\u001b[0m \u001b[0mopen\u001b[0m\u001b[0;34m(\u001b[0m\u001b[0;34m'../domains_conf/heavenhell.yaml'\u001b[0m\u001b[0;34m)\u001b[0m \u001b[0;32mas\u001b[0m \u001b[0mfile\u001b[0m\u001b[0;34m:\u001b[0m\u001b[0;34m\u001b[0m\u001b[0;34m\u001b[0m\u001b[0m\n\u001b[0;32m----> 2\u001b[0;31m     \u001b[0menv_conf\u001b[0m \u001b[0;34m=\u001b[0m \u001b[0myaml\u001b[0m\u001b[0;34m.\u001b[0m\u001b[0mload\u001b[0m\u001b[0;34m(\u001b[0m\u001b[0mfile\u001b[0m\u001b[0;34m,\u001b[0m \u001b[0mLoader\u001b[0m\u001b[0;34m=\u001b[0m\u001b[0myaml\u001b[0m\u001b[0;34m.\u001b[0m\u001b[0mFullLoader\u001b[0m\u001b[0;34m)\u001b[0m\u001b[0;34m\u001b[0m\u001b[0;34m\u001b[0m\u001b[0m\n\u001b[0m\u001b[1;32m      3\u001b[0m     \u001b[0mprint\u001b[0m\u001b[0;34m(\u001b[0m\u001b[0menv_conf\u001b[0m\u001b[0;34m)\u001b[0m\u001b[0;34m\u001b[0m\u001b[0;34m\u001b[0m\u001b[0m\n\u001b[1;32m      4\u001b[0m \u001b[0;34m\u001b[0m\u001b[0m\n\u001b[1;32m      5\u001b[0m register(\n",
      "\u001b[0;31mAttributeError\u001b[0m: module 'yaml' has no attribute 'FullLoader'"
     ]
    }
   ],
   "source": [
    "with open('../domains_conf/heavenhell.yaml') as file:\n",
    "    env_conf = yaml.load(file, Loader=yaml.FullLoader)\n",
    "    print(env_conf)\n",
    "\n",
    "register(\n",
    "    id=env_conf['name'],\n",
    "    entry_point=env_conf['entry_point'],\n",
    "    kwargs=env_conf['config'],\n",
    "    max_episode_steps=env_conf['max_episode_steps']\n",
    ")\n",
    "\n",
    "env = gym.make(env_conf['name'])\n",
    "print(len(env.reset()))\n",
    "print('=== State ===')\n",
    "print(env.get_state())\n",
    "print('=== Belief ===')\n",
    "print(env.get_belief())\n",
    "print(len(env.get_belief()))"
   ]
  },
  {
   "cell_type": "code",
   "execution_count": 7,
   "metadata": {
    "ExecuteTime": {
     "end_time": "2021-03-31T07:10:53.996868Z",
     "start_time": "2021-03-31T07:10:53.982974Z"
    }
   },
   "outputs": [
    {
     "data": {
      "text/plain": [
       "<module 'gym' from '/Users/yangzhihan/anaconda/envs/deeplearning_googlecloud/lib/python3.6/site-packages/gym/__init__.py'>"
      ]
     },
     "execution_count": 7,
     "metadata": {},
     "output_type": "execute_result"
    }
   ],
   "source": [
    "gym"
   ]
  },
  {
   "cell_type": "code",
   "execution_count": null,
   "metadata": {},
   "outputs": [],
   "source": []
  }
 ],
 "metadata": {
  "kernelspec": {
   "display_name": "Python 3",
   "language": "python",
   "name": "python3"
  },
  "language_info": {
   "codemirror_mode": {
    "name": "ipython",
    "version": 3
   },
   "file_extension": ".py",
   "mimetype": "text/x-python",
   "name": "python",
   "nbconvert_exporter": "python",
   "pygments_lexer": "ipython3",
   "version": "3.6.9"
  },
  "toc": {
   "base_numbering": 1,
   "nav_menu": {},
   "number_sections": true,
   "sideBar": true,
   "skip_h1_title": false,
   "title_cell": "Table of Contents",
   "title_sidebar": "Contents",
   "toc_cell": false,
   "toc_position": {},
   "toc_section_display": true,
   "toc_window_display": false
  }
 },
 "nbformat": 4,
 "nbformat_minor": 2
}
